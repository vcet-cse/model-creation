{
 "cells": [
  {
   "cell_type": "code",
   "execution_count": 25,
   "metadata": {},
   "outputs": [],
   "source": [
    "#https://stackabuse.com/random-forest-algorithm-with-python-and-scikit-learn/\n",
    "import pandas as pd\n",
    "import numpy as np\n",
    "from sklearn.externals import joblib"
   ]
  },
  {
   "cell_type": "code",
   "execution_count": 26,
   "metadata": {},
   "outputs": [
    {
     "ename": "FileNotFoundError",
     "evalue": "[Errno 2] File b'R_8__DATASET.csv' does not exist: b'R_8__DATASET.csv'",
     "output_type": "error",
     "traceback": [
      "\u001b[0;31m---------------------------------------------------------------------------\u001b[0m",
      "\u001b[0;31mFileNotFoundError\u001b[0m                         Traceback (most recent call last)",
      "\u001b[0;32m<ipython-input-26-c863704ae45c>\u001b[0m in \u001b[0;36m<module>\u001b[0;34m\u001b[0m\n\u001b[0;32m----> 1\u001b[0;31m \u001b[0mdataset\u001b[0m \u001b[0;34m=\u001b[0m \u001b[0mpd\u001b[0m\u001b[0;34m.\u001b[0m\u001b[0mread_csv\u001b[0m\u001b[0;34m(\u001b[0m\u001b[0;34m\"R_8__DATASET.csv\"\u001b[0m\u001b[0;34m)\u001b[0m\u001b[0;34m\u001b[0m\u001b[0;34m\u001b[0m\u001b[0m\n\u001b[0m",
      "\u001b[0;32m/usr/local/lib/python3.6/dist-packages/pandas/io/parsers.py\u001b[0m in \u001b[0;36mparser_f\u001b[0;34m(filepath_or_buffer, sep, delimiter, header, names, index_col, usecols, squeeze, prefix, mangle_dupe_cols, dtype, engine, converters, true_values, false_values, skipinitialspace, skiprows, skipfooter, nrows, na_values, keep_default_na, na_filter, verbose, skip_blank_lines, parse_dates, infer_datetime_format, keep_date_col, date_parser, dayfirst, cache_dates, iterator, chunksize, compression, thousands, decimal, lineterminator, quotechar, quoting, doublequote, escapechar, comment, encoding, dialect, error_bad_lines, warn_bad_lines, delim_whitespace, low_memory, memory_map, float_precision)\u001b[0m\n\u001b[1;32m    683\u001b[0m         )\n\u001b[1;32m    684\u001b[0m \u001b[0;34m\u001b[0m\u001b[0m\n\u001b[0;32m--> 685\u001b[0;31m         \u001b[0;32mreturn\u001b[0m \u001b[0m_read\u001b[0m\u001b[0;34m(\u001b[0m\u001b[0mfilepath_or_buffer\u001b[0m\u001b[0;34m,\u001b[0m \u001b[0mkwds\u001b[0m\u001b[0;34m)\u001b[0m\u001b[0;34m\u001b[0m\u001b[0;34m\u001b[0m\u001b[0m\n\u001b[0m\u001b[1;32m    686\u001b[0m \u001b[0;34m\u001b[0m\u001b[0m\n\u001b[1;32m    687\u001b[0m     \u001b[0mparser_f\u001b[0m\u001b[0;34m.\u001b[0m\u001b[0m__name__\u001b[0m \u001b[0;34m=\u001b[0m \u001b[0mname\u001b[0m\u001b[0;34m\u001b[0m\u001b[0;34m\u001b[0m\u001b[0m\n",
      "\u001b[0;32m/usr/local/lib/python3.6/dist-packages/pandas/io/parsers.py\u001b[0m in \u001b[0;36m_read\u001b[0;34m(filepath_or_buffer, kwds)\u001b[0m\n\u001b[1;32m    455\u001b[0m \u001b[0;34m\u001b[0m\u001b[0m\n\u001b[1;32m    456\u001b[0m     \u001b[0;31m# Create the parser.\u001b[0m\u001b[0;34m\u001b[0m\u001b[0;34m\u001b[0m\u001b[0;34m\u001b[0m\u001b[0m\n\u001b[0;32m--> 457\u001b[0;31m     \u001b[0mparser\u001b[0m \u001b[0;34m=\u001b[0m \u001b[0mTextFileReader\u001b[0m\u001b[0;34m(\u001b[0m\u001b[0mfp_or_buf\u001b[0m\u001b[0;34m,\u001b[0m \u001b[0;34m**\u001b[0m\u001b[0mkwds\u001b[0m\u001b[0;34m)\u001b[0m\u001b[0;34m\u001b[0m\u001b[0;34m\u001b[0m\u001b[0m\n\u001b[0m\u001b[1;32m    458\u001b[0m \u001b[0;34m\u001b[0m\u001b[0m\n\u001b[1;32m    459\u001b[0m     \u001b[0;32mif\u001b[0m \u001b[0mchunksize\u001b[0m \u001b[0;32mor\u001b[0m \u001b[0miterator\u001b[0m\u001b[0;34m:\u001b[0m\u001b[0;34m\u001b[0m\u001b[0;34m\u001b[0m\u001b[0m\n",
      "\u001b[0;32m/usr/local/lib/python3.6/dist-packages/pandas/io/parsers.py\u001b[0m in \u001b[0;36m__init__\u001b[0;34m(self, f, engine, **kwds)\u001b[0m\n\u001b[1;32m    893\u001b[0m             \u001b[0mself\u001b[0m\u001b[0;34m.\u001b[0m\u001b[0moptions\u001b[0m\u001b[0;34m[\u001b[0m\u001b[0;34m\"has_index_names\"\u001b[0m\u001b[0;34m]\u001b[0m \u001b[0;34m=\u001b[0m \u001b[0mkwds\u001b[0m\u001b[0;34m[\u001b[0m\u001b[0;34m\"has_index_names\"\u001b[0m\u001b[0;34m]\u001b[0m\u001b[0;34m\u001b[0m\u001b[0;34m\u001b[0m\u001b[0m\n\u001b[1;32m    894\u001b[0m \u001b[0;34m\u001b[0m\u001b[0m\n\u001b[0;32m--> 895\u001b[0;31m         \u001b[0mself\u001b[0m\u001b[0;34m.\u001b[0m\u001b[0m_make_engine\u001b[0m\u001b[0;34m(\u001b[0m\u001b[0mself\u001b[0m\u001b[0;34m.\u001b[0m\u001b[0mengine\u001b[0m\u001b[0;34m)\u001b[0m\u001b[0;34m\u001b[0m\u001b[0;34m\u001b[0m\u001b[0m\n\u001b[0m\u001b[1;32m    896\u001b[0m \u001b[0;34m\u001b[0m\u001b[0m\n\u001b[1;32m    897\u001b[0m     \u001b[0;32mdef\u001b[0m \u001b[0mclose\u001b[0m\u001b[0;34m(\u001b[0m\u001b[0mself\u001b[0m\u001b[0;34m)\u001b[0m\u001b[0;34m:\u001b[0m\u001b[0;34m\u001b[0m\u001b[0;34m\u001b[0m\u001b[0m\n",
      "\u001b[0;32m/usr/local/lib/python3.6/dist-packages/pandas/io/parsers.py\u001b[0m in \u001b[0;36m_make_engine\u001b[0;34m(self, engine)\u001b[0m\n\u001b[1;32m   1133\u001b[0m     \u001b[0;32mdef\u001b[0m \u001b[0m_make_engine\u001b[0m\u001b[0;34m(\u001b[0m\u001b[0mself\u001b[0m\u001b[0;34m,\u001b[0m \u001b[0mengine\u001b[0m\u001b[0;34m=\u001b[0m\u001b[0;34m\"c\"\u001b[0m\u001b[0;34m)\u001b[0m\u001b[0;34m:\u001b[0m\u001b[0;34m\u001b[0m\u001b[0;34m\u001b[0m\u001b[0m\n\u001b[1;32m   1134\u001b[0m         \u001b[0;32mif\u001b[0m \u001b[0mengine\u001b[0m \u001b[0;34m==\u001b[0m \u001b[0;34m\"c\"\u001b[0m\u001b[0;34m:\u001b[0m\u001b[0;34m\u001b[0m\u001b[0;34m\u001b[0m\u001b[0m\n\u001b[0;32m-> 1135\u001b[0;31m             \u001b[0mself\u001b[0m\u001b[0;34m.\u001b[0m\u001b[0m_engine\u001b[0m \u001b[0;34m=\u001b[0m \u001b[0mCParserWrapper\u001b[0m\u001b[0;34m(\u001b[0m\u001b[0mself\u001b[0m\u001b[0;34m.\u001b[0m\u001b[0mf\u001b[0m\u001b[0;34m,\u001b[0m \u001b[0;34m**\u001b[0m\u001b[0mself\u001b[0m\u001b[0;34m.\u001b[0m\u001b[0moptions\u001b[0m\u001b[0;34m)\u001b[0m\u001b[0;34m\u001b[0m\u001b[0;34m\u001b[0m\u001b[0m\n\u001b[0m\u001b[1;32m   1136\u001b[0m         \u001b[0;32melse\u001b[0m\u001b[0;34m:\u001b[0m\u001b[0;34m\u001b[0m\u001b[0;34m\u001b[0m\u001b[0m\n\u001b[1;32m   1137\u001b[0m             \u001b[0;32mif\u001b[0m \u001b[0mengine\u001b[0m \u001b[0;34m==\u001b[0m \u001b[0;34m\"python\"\u001b[0m\u001b[0;34m:\u001b[0m\u001b[0;34m\u001b[0m\u001b[0;34m\u001b[0m\u001b[0m\n",
      "\u001b[0;32m/usr/local/lib/python3.6/dist-packages/pandas/io/parsers.py\u001b[0m in \u001b[0;36m__init__\u001b[0;34m(self, src, **kwds)\u001b[0m\n\u001b[1;32m   1915\u001b[0m         \u001b[0mkwds\u001b[0m\u001b[0;34m[\u001b[0m\u001b[0;34m\"usecols\"\u001b[0m\u001b[0;34m]\u001b[0m \u001b[0;34m=\u001b[0m \u001b[0mself\u001b[0m\u001b[0;34m.\u001b[0m\u001b[0musecols\u001b[0m\u001b[0;34m\u001b[0m\u001b[0;34m\u001b[0m\u001b[0m\n\u001b[1;32m   1916\u001b[0m \u001b[0;34m\u001b[0m\u001b[0m\n\u001b[0;32m-> 1917\u001b[0;31m         \u001b[0mself\u001b[0m\u001b[0;34m.\u001b[0m\u001b[0m_reader\u001b[0m \u001b[0;34m=\u001b[0m \u001b[0mparsers\u001b[0m\u001b[0;34m.\u001b[0m\u001b[0mTextReader\u001b[0m\u001b[0;34m(\u001b[0m\u001b[0msrc\u001b[0m\u001b[0;34m,\u001b[0m \u001b[0;34m**\u001b[0m\u001b[0mkwds\u001b[0m\u001b[0;34m)\u001b[0m\u001b[0;34m\u001b[0m\u001b[0;34m\u001b[0m\u001b[0m\n\u001b[0m\u001b[1;32m   1918\u001b[0m         \u001b[0mself\u001b[0m\u001b[0;34m.\u001b[0m\u001b[0munnamed_cols\u001b[0m \u001b[0;34m=\u001b[0m \u001b[0mself\u001b[0m\u001b[0;34m.\u001b[0m\u001b[0m_reader\u001b[0m\u001b[0;34m.\u001b[0m\u001b[0munnamed_cols\u001b[0m\u001b[0;34m\u001b[0m\u001b[0;34m\u001b[0m\u001b[0m\n\u001b[1;32m   1919\u001b[0m \u001b[0;34m\u001b[0m\u001b[0m\n",
      "\u001b[0;32mpandas/_libs/parsers.pyx\u001b[0m in \u001b[0;36mpandas._libs.parsers.TextReader.__cinit__\u001b[0;34m()\u001b[0m\n",
      "\u001b[0;32mpandas/_libs/parsers.pyx\u001b[0m in \u001b[0;36mpandas._libs.parsers.TextReader._setup_parser_source\u001b[0;34m()\u001b[0m\n",
      "\u001b[0;31mFileNotFoundError\u001b[0m: [Errno 2] File b'R_8__DATASET.csv' does not exist: b'R_8__DATASET.csv'"
     ]
    }
   ],
   "source": [
    "dataset = pd.read_csv(\"R_8__DATASET.csv\")"
   ]
  },
  {
   "cell_type": "code",
   "execution_count": 27,
   "metadata": {},
   "outputs": [
    {
     "data": {
      "text/html": [
       "<div>\n",
       "<style scoped>\n",
       "    .dataframe tbody tr th:only-of-type {\n",
       "        vertical-align: middle;\n",
       "    }\n",
       "\n",
       "    .dataframe tbody tr th {\n",
       "        vertical-align: top;\n",
       "    }\n",
       "\n",
       "    .dataframe thead th {\n",
       "        text-align: right;\n",
       "    }\n",
       "</style>\n",
       "<table border=\"1\" class=\"dataframe\">\n",
       "  <thead>\n",
       "    <tr style=\"text-align: right;\">\n",
       "      <th></th>\n",
       "      <th>164.jpg</th>\n",
       "      <th>42.274112701416016</th>\n",
       "      <th>101.03533935546875</th>\n",
       "      <th>0.4184091721876108</th>\n",
       "      <th>3149.0</th>\n",
       "      <th>47</th>\n",
       "      <th>251.13708293437958</th>\n",
       "      <th>0</th>\n",
       "    </tr>\n",
       "  </thead>\n",
       "  <tbody>\n",
       "    <tr>\n",
       "      <td>0</td>\n",
       "      <td>227.jpg</td>\n",
       "      <td>46.798073</td>\n",
       "      <td>197.477982</td>\n",
       "      <td>0.236979</td>\n",
       "      <td>6904.5</td>\n",
       "      <td>90</td>\n",
       "      <td>434.600067</td>\n",
       "      <td>0</td>\n",
       "    </tr>\n",
       "    <tr>\n",
       "      <td>1</td>\n",
       "      <td>233.jpg</td>\n",
       "      <td>49.545021</td>\n",
       "      <td>104.691307</td>\n",
       "      <td>0.473249</td>\n",
       "      <td>3758.0</td>\n",
       "      <td>49</td>\n",
       "      <td>269.705625</td>\n",
       "      <td>0</td>\n",
       "    </tr>\n",
       "    <tr>\n",
       "      <td>2</td>\n",
       "      <td>236.jpg</td>\n",
       "      <td>45.902428</td>\n",
       "      <td>127.115814</td>\n",
       "      <td>0.361107</td>\n",
       "      <td>4364.0</td>\n",
       "      <td>60</td>\n",
       "      <td>307.622364</td>\n",
       "      <td>0</td>\n",
       "    </tr>\n",
       "    <tr>\n",
       "      <td>3</td>\n",
       "      <td>323.jpg</td>\n",
       "      <td>46.179855</td>\n",
       "      <td>110.947517</td>\n",
       "      <td>0.416232</td>\n",
       "      <td>3496.5</td>\n",
       "      <td>49</td>\n",
       "      <td>258.752307</td>\n",
       "      <td>0</td>\n",
       "    </tr>\n",
       "    <tr>\n",
       "      <td>4</td>\n",
       "      <td>103.jpg</td>\n",
       "      <td>40.984253</td>\n",
       "      <td>165.975647</td>\n",
       "      <td>0.246929</td>\n",
       "      <td>4853.0</td>\n",
       "      <td>82</td>\n",
       "      <td>385.847760</td>\n",
       "      <td>0</td>\n",
       "    </tr>\n",
       "  </tbody>\n",
       "</table>\n",
       "</div>"
      ],
      "text/plain": [
       "   164.jpg  42.274112701416016  101.03533935546875  0.4184091721876108  \\\n",
       "0  227.jpg           46.798073          197.477982            0.236979   \n",
       "1  233.jpg           49.545021          104.691307            0.473249   \n",
       "2  236.jpg           45.902428          127.115814            0.361107   \n",
       "3  323.jpg           46.179855          110.947517            0.416232   \n",
       "4  103.jpg           40.984253          165.975647            0.246929   \n",
       "\n",
       "   3149.0  47  251.13708293437958  0  \n",
       "0  6904.5  90          434.600067  0  \n",
       "1  3758.0  49          269.705625  0  \n",
       "2  4364.0  60          307.622364  0  \n",
       "3  3496.5  49          258.752307  0  \n",
       "4  4853.0  82          385.847760  0  "
      ]
     },
     "execution_count": 27,
     "metadata": {},
     "output_type": "execute_result"
    }
   ],
   "source": [
    "dataset.head()"
   ]
  },
  {
   "cell_type": "code",
   "execution_count": 28,
   "metadata": {},
   "outputs": [
    {
     "name": "stdout",
     "output_type": "stream",
     "text": [
      "[[4.67980728e+01 1.97477982e+02 2.36978687e-01 6.90450000e+03\n",
      "  9.00000000e+01 4.34600067e+02]\n",
      " [4.95450211e+01 1.04691307e+02 4.73248663e-01 3.75800000e+03\n",
      "  4.90000000e+01 2.69705625e+02]\n",
      " [4.59024277e+01 1.27115814e+02 3.61107137e-01 4.36400000e+03\n",
      "  6.00000000e+01 3.07622364e+02]\n",
      " [4.61798553e+01 1.10947517e+02 4.16231534e-01 3.49650000e+03\n",
      "  4.90000000e+01 2.58752307e+02]\n",
      " [4.09842529e+01 1.65975647e+02 2.46929316e-01 4.85300000e+03\n",
      "  8.20000000e+01 3.85847760e+02]\n",
      " [4.22710762e+01 2.24709518e+02 1.88114311e-01 6.91300000e+03\n",
      "  9.80000000e+01 4.59788885e+02]\n",
      " [4.96151695e+01 9.46022186e+01 5.24460951e-01 3.39750000e+03\n",
      "  4.30000000e+01 2.59663995e+02]\n",
      " [4.75984612e+01 1.43008453e+02 3.32836696e-01 4.92950000e+03\n",
      "  6.30000000e+01 3.20066015e+02]\n",
      " [4.58517456e+01 1.32907455e+02 3.44990019e-01 4.41050000e+03\n",
      "  6.10000000e+01 3.04031526e+02]\n",
      " [4.52682266e+01 1.16812073e+02 3.87530377e-01 3.81650000e+03\n",
      "  5.60000000e+01 2.76953318e+02]\n",
      " [4.25175705e+01 1.02533409e+02 4.14670407e-01 3.21850000e+03\n",
      "  4.70000000e+01 2.52894442e+02]\n",
      " [4.35926018e+01 1.95732010e+02 2.22715752e-01 6.31950000e+03\n",
      "  8.90000000e+01 4.18007140e+02]\n",
      " [4.74420700e+01 2.52283691e+02 1.88050483e-01 8.08700000e+03\n",
      "  1.06000000e+02 5.09043718e+02]\n",
      " [4.88985176e+01 1.80213013e+02 2.71337330e-01 6.54800000e+03\n",
      "  8.40000000e+01 4.02416301e+02]\n",
      " [4.08645172e+01 1.35918442e+02 3.00654692e-01 4.35100000e+03\n",
      "  6.80000000e+01 3.27019332e+02]\n",
      " [4.96832428e+01 3.54517059e+02 1.40143447e-01 1.28700000e+04\n",
      "  1.69000000e+02 7.91102593e+02]\n",
      " [4.10532570e+01 2.29754974e+02 1.78682778e-01 7.08750000e+03\n",
      "  1.08000000e+02 4.79036578e+02]\n",
      " [4.59422340e+01 1.93980698e+02 2.36839204e-01 6.72000000e+03\n",
      "  9.00000000e+01 4.18842708e+02]\n",
      " [4.18776855e+01 1.51073898e+02 2.77200006e-01 4.82050000e+03\n",
      "  7.40000000e+01 3.47663994e+02]\n",
      " [4.61352730e+01 2.46504517e+02 1.87157922e-01 8.32200000e+03\n",
      "  1.08000000e+02 4.97185854e+02]\n",
      " [3.64488564e+01 1.62543213e+02 2.24241023e-01 4.44100000e+03\n",
      "  7.80000000e+01 3.56024385e+02]\n",
      " [3.98978920e+01 1.86205399e+02 2.14268181e-01 5.34450000e+03\n",
      "  8.80000000e+01 4.08516806e+02]\n",
      " [4.90614433e+01 2.08491501e+02 2.35316275e-01 7.17800000e+03\n",
      "  9.30000000e+01 4.31470128e+02]\n",
      " [4.37836456e+01 2.07030838e+02 2.11483690e-01 6.84050000e+03\n",
      "  9.60000000e+01 4.48575682e+02]\n",
      " [4.09803200e+01 2.12891449e+02 1.92493969e-01 6.55650000e+03\n",
      "  9.70000000e+01 4.39865005e+02]\n",
      " [4.90041389e+01 2.05250107e+02 2.38753293e-01 7.61800000e+03\n",
      "  9.60000000e+01 4.49362478e+02]\n",
      " [4.88562737e+01 1.73647842e+02 2.81352610e-01 6.41100000e+03\n",
      "  8.30000000e+01 3.95303603e+02]\n",
      " [4.03884659e+01 1.67920746e+02 2.40521001e-01 5.25950000e+03\n",
      "  8.20000000e+01 3.81747254e+02]\n",
      " [4.57049637e+01 2.50304108e+02 1.82597737e-01 8.49100000e+03\n",
      "  1.13000000e+02 5.11896529e+02]\n",
      " [4.14763718e+01 2.16783493e+02 1.91326245e-01 6.78150000e+03\n",
      "  1.02000000e+02 4.56894442e+02]\n",
      " [4.61797371e+01 2.09949677e+02 2.19956219e-01 7.10700000e+03\n",
      "  9.90000000e+01 4.52450791e+02]\n",
      " [1.78375015e+02 2.45444092e+02 7.26743976e-01 1.42850000e+04\n",
      "  1.15000000e+02 8.38974737e+02]\n",
      " [4.46733780e+01 2.35065750e+02 1.90046308e-01 7.67300000e+03\n",
      "  1.08000000e+02 5.00877197e+02]\n",
      " [4.38232880e+01 1.65990250e+02 2.64011218e-01 5.40550000e+03\n",
      "  8.10000000e+01 3.74066015e+02]\n",
      " [4.32110176e+01 2.17229248e+02 1.98918967e-01 6.94600000e+03\n",
      "  9.80000000e+01 4.49269112e+02]\n",
      " [4.52636604e+01 2.13563385e+02 2.11944854e-01 7.34300000e+03\n",
      "  1.02000000e+02 4.62783830e+02]\n",
      " [4.84212418e+01 2.39622910e+02 2.02072673e-01 8.59600000e+03\n",
      "  1.06000000e+02 4.96676187e+02]\n",
      " [4.31578140e+01 1.68956146e+02 2.55437964e-01 5.52350000e+03\n",
      "  7.90000000e+01 3.77663994e+02]\n",
      " [4.39723320e+01 2.48040771e+02 1.77278646e-01 8.28600000e+03\n",
      "  1.17000000e+02 5.30676187e+02]\n",
      " [4.14164352e+01 1.45696625e+02 2.84264892e-01 4.72300000e+03\n",
      "  7.30000000e+01 3.40676187e+02]\n",
      " [4.54858780e+01 1.72588257e+02 2.63551407e-01 5.87850000e+03\n",
      "  8.30000000e+01 3.80409161e+02]\n",
      " [4.11886253e+01 1.91600143e+02 2.14971788e-01 5.94500000e+03\n",
      "  9.00000000e+01 4.12936072e+02]\n",
      " [4.10679550e+01 2.14978134e+02 1.91033173e-01 6.70650000e+03\n",
      "  9.90000000e+01 4.58031525e+02]\n",
      " [4.74237785e+01 2.10879501e+02 2.24885673e-01 6.88350000e+03\n",
      "  1.01000000e+02 4.59521859e+02]\n",
      " [4.71218262e+01 1.95952271e+02 2.40476041e-01 6.84900000e+03\n",
      "  9.20000000e+01 4.25813271e+02]\n",
      " [5.09137955e+01 1.91996750e+02 2.65180507e-01 7.18050000e+03\n",
      "  8.90000000e+01 4.27688379e+02]\n",
      " [4.15548630e+01 1.80423065e+02 2.30319017e-01 5.72400000e+03\n",
      "  8.60000000e+01 4.00391916e+02]\n",
      " [4.90955315e+01 1.77490356e+02 2.76609572e-01 6.49700000e+03\n",
      "  8.50000000e+01 4.14048770e+02]\n",
      " [4.71335335e+01 1.98508499e+02 2.37438365e-01 7.04950000e+03\n",
      "  9.40000000e+01 4.29913775e+02]\n",
      " [4.28399391e+01 2.01812653e+02 2.12275784e-01 6.39750000e+03\n",
      "  9.20000000e+01 4.28801076e+02]\n",
      " [4.38717461e+01 2.06062729e+02 2.12904810e-01 6.63200000e+03\n",
      "  9.40000000e+01 4.32901583e+02]]\n"
     ]
    }
   ],
   "source": [
    "X = dataset.iloc[:, 1:7].values\n",
    "y = dataset.iloc[:, 7].values\n",
    "        \n",
    "print(X)"
   ]
  },
  {
   "cell_type": "code",
   "execution_count": 29,
   "metadata": {},
   "outputs": [
    {
     "data": {
      "text/plain": [
       "array([1, 1, 0, 1, 1, 1, 1, 1, 1, 1, 1, 1, 1, 1, 1, 0, 1, 1, 0, 1, 1, 1,\n",
       "       0, 1, 1, 1, 0, 1, 1, 1, 1, 0, 1, 1, 0, 0, 1, 1])"
      ]
     },
     "execution_count": 29,
     "metadata": {},
     "output_type": "execute_result"
    }
   ],
   "source": [
    "from sklearn.model_selection import train_test_split\n",
    "X_train, X_test, y_train, y_test = train_test_split(X, y, test_size=0.25, random_state=0)\n",
    "y_train"
   ]
  },
  {
   "cell_type": "code",
   "execution_count": 30,
   "metadata": {},
   "outputs": [],
   "source": [
    "# Feature Scaling\n",
    "from sklearn.preprocessing import StandardScaler\n",
    "sc = StandardScaler()\n",
    "#X_train = sc.fit_transform(X_train)\n",
    "#X_test = sc.transform(X_test)\n",
    "#X_test"
   ]
  },
  {
   "cell_type": "code",
   "execution_count": 31,
   "metadata": {},
   "outputs": [
    {
     "data": {
      "text/plain": [
       "RandomForestRegressor(bootstrap=True, ccp_alpha=0.0, criterion='mse',\n",
       "                      max_depth=None, max_features='auto', max_leaf_nodes=None,\n",
       "                      max_samples=None, min_impurity_decrease=0.0,\n",
       "                      min_impurity_split=None, min_samples_leaf=1,\n",
       "                      min_samples_split=2, min_weight_fraction_leaf=0.0,\n",
       "                      n_estimators=20, n_jobs=None, oob_score=False,\n",
       "                      random_state=0, verbose=0, warm_start=False)"
      ]
     },
     "execution_count": 31,
     "metadata": {},
     "output_type": "execute_result"
    }
   ],
   "source": [
    "from sklearn.ensemble import RandomForestRegressor\n",
    "regressor = RandomForestRegressor(n_estimators=20, random_state=0)\n",
    "regressor.fit(X_train, y_train)"
   ]
  },
  {
   "cell_type": "code",
   "execution_count": 32,
   "metadata": {},
   "outputs": [
    {
     "data": {
      "text/plain": [
       "['R_8__random_forest_model.pkl']"
      ]
     },
     "execution_count": 32,
     "metadata": {},
     "output_type": "execute_result"
    }
   ],
   "source": [
    "filename = 'R_8__random_forest_model.pkl'\n",
    "joblib.dump(regressor,filename)"
   ]
  },
  {
   "cell_type": "code",
   "execution_count": 36,
   "metadata": {},
   "outputs": [
    {
     "name": "stdout",
     "output_type": "stream",
     "text": [
      "1 1.0\n",
      "1 1.0\n",
      "0 0.0\n",
      "1 1.0\n",
      "0 0.0\n",
      "1 1.0\n",
      "1 1.0\n",
      "1 1.0\n",
      "1 1.0\n",
      "0 1.0\n",
      "1 1.0\n",
      "1 1.0\n",
      "1 1.0\n"
     ]
    }
   ],
   "source": [
    "y_pred = regressor.predict(X_test)\n",
    "#X_test\n",
    "for i in range(len(y_test)):\n",
    "    print(y_test[i], y_pred[i].round())"
   ]
  },
  {
   "cell_type": "code",
   "execution_count": null,
   "metadata": {},
   "outputs": [],
   "source": []
  },
  {
   "cell_type": "code",
   "execution_count": 34,
   "metadata": {},
   "outputs": [],
   "source": [
    "#PREDICTION"
   ]
  },
  {
   "cell_type": "code",
   "execution_count": 35,
   "metadata": {},
   "outputs": [
    {
     "data": {
      "text/plain": [
       "array([0.])"
      ]
     },
     "execution_count": 35,
     "metadata": {},
     "output_type": "execute_result"
    }
   ],
   "source": [
    "# Load model from file\n",
    "classifer = joblib.load(filename)\n",
    "classifer.predict([[42.558048248291016,114.12095642089844,0.3729205360961868,3555.5,56,267.92387986183167]])"
   ]
  },
  {
   "cell_type": "code",
   "execution_count": null,
   "metadata": {},
   "outputs": [],
   "source": []
  },
  {
   "cell_type": "code",
   "execution_count": null,
   "metadata": {},
   "outputs": [],
   "source": []
  },
  {
   "cell_type": "code",
   "execution_count": null,
   "metadata": {},
   "outputs": [],
   "source": []
  }
 ],
 "metadata": {
  "kernelspec": {
   "display_name": "Python 3",
   "language": "python",
   "name": "python3"
  },
  "language_info": {
   "codemirror_mode": {
    "name": "ipython",
    "version": 3
   },
   "file_extension": ".py",
   "mimetype": "text/x-python",
   "name": "python",
   "nbconvert_exporter": "python",
   "pygments_lexer": "ipython3",
   "version": "3.6.9"
  }
 },
 "nbformat": 4,
 "nbformat_minor": 2
}
