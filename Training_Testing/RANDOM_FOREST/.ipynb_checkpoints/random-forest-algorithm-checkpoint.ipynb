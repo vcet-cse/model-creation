{
 "cells": [
  {
   "cell_type": "code",
   "execution_count": 16,
   "metadata": {},
   "outputs": [],
   "source": [
    "#https://stackabuse.com/random-forest-algorithm-with-python-and-scikit-learn/\n",
    "import pandas as pd\n",
    "import numpy as np\n",
    "from sklearn.externals import joblib"
   ]
  },
  {
   "cell_type": "code",
   "execution_count": 17,
   "metadata": {},
   "outputs": [],
   "source": [
    "dataset = pd.read_csv(\"R_8__DATASET.csv\")"
   ]
  },
  {
   "cell_type": "code",
   "execution_count": 18,
   "metadata": {},
   "outputs": [
    {
     "data": {
      "text/html": [
       "<div>\n",
       "<style scoped>\n",
       "    .dataframe tbody tr th:only-of-type {\n",
       "        vertical-align: middle;\n",
       "    }\n",
       "\n",
       "    .dataframe tbody tr th {\n",
       "        vertical-align: top;\n",
       "    }\n",
       "\n",
       "    .dataframe thead th {\n",
       "        text-align: right;\n",
       "    }\n",
       "</style>\n",
       "<table border=\"1\" class=\"dataframe\">\n",
       "  <thead>\n",
       "    <tr style=\"text-align: right;\">\n",
       "      <th></th>\n",
       "      <th>132.jpg</th>\n",
       "      <th>35.61210632324219</th>\n",
       "      <th>59.54487228393555</th>\n",
       "      <th>0.5980717559259907</th>\n",
       "      <th>1511.0</th>\n",
       "      <th>30</th>\n",
       "      <th>161.82337534427643</th>\n",
       "      <th>0</th>\n",
       "    </tr>\n",
       "  </thead>\n",
       "  <tbody>\n",
       "    <tr>\n",
       "      <td>0</td>\n",
       "      <td>194.jpg</td>\n",
       "      <td>35.994423</td>\n",
       "      <td>67.095436</td>\n",
       "      <td>0.536466</td>\n",
       "      <td>1870.0</td>\n",
       "      <td>34</td>\n",
       "      <td>178.166521</td>\n",
       "      <td>0</td>\n",
       "    </tr>\n",
       "    <tr>\n",
       "      <td>1</td>\n",
       "      <td>158.jpg</td>\n",
       "      <td>37.886250</td>\n",
       "      <td>50.248219</td>\n",
       "      <td>0.753982</td>\n",
       "      <td>1371.0</td>\n",
       "      <td>26</td>\n",
       "      <td>148.568542</td>\n",
       "      <td>0</td>\n",
       "    </tr>\n",
       "    <tr>\n",
       "      <td>2</td>\n",
       "      <td>243.jpg</td>\n",
       "      <td>63.205441</td>\n",
       "      <td>88.202278</td>\n",
       "      <td>0.716596</td>\n",
       "      <td>3496.5</td>\n",
       "      <td>44</td>\n",
       "      <td>345.119837</td>\n",
       "      <td>0</td>\n",
       "    </tr>\n",
       "    <tr>\n",
       "      <td>3</td>\n",
       "      <td>137.jpg</td>\n",
       "      <td>37.436577</td>\n",
       "      <td>70.613068</td>\n",
       "      <td>0.530165</td>\n",
       "      <td>1858.5</td>\n",
       "      <td>36</td>\n",
       "      <td>185.722869</td>\n",
       "      <td>0</td>\n",
       "    </tr>\n",
       "    <tr>\n",
       "      <td>4</td>\n",
       "      <td>165.jpg</td>\n",
       "      <td>40.025623</td>\n",
       "      <td>65.582756</td>\n",
       "      <td>0.610307</td>\n",
       "      <td>1853.5</td>\n",
       "      <td>32</td>\n",
       "      <td>179.095453</td>\n",
       "      <td>0</td>\n",
       "    </tr>\n",
       "  </tbody>\n",
       "</table>\n",
       "</div>"
      ],
      "text/plain": [
       "   132.jpg  35.61210632324219  59.54487228393555  0.5980717559259907  1511.0  \\\n",
       "0  194.jpg          35.994423          67.095436            0.536466  1870.0   \n",
       "1  158.jpg          37.886250          50.248219            0.753982  1371.0   \n",
       "2  243.jpg          63.205441          88.202278            0.716596  3496.5   \n",
       "3  137.jpg          37.436577          70.613068            0.530165  1858.5   \n",
       "4  165.jpg          40.025623          65.582756            0.610307  1853.5   \n",
       "\n",
       "   30  161.82337534427643  0  \n",
       "0  34          178.166521  0  \n",
       "1  26          148.568542  0  \n",
       "2  44          345.119837  0  \n",
       "3  36          185.722869  0  \n",
       "4  32          179.095453  0  "
      ]
     },
     "execution_count": 18,
     "metadata": {},
     "output_type": "execute_result"
    }
   ],
   "source": [
    "dataset.head()"
   ]
  },
  {
   "cell_type": "code",
   "execution_count": 19,
   "metadata": {},
   "outputs": [
    {
     "name": "stdout",
     "output_type": "stream",
     "text": [
      "[[3.59944229e+01 6.70954361e+01 5.36466040e-01 1.87000000e+03\n",
      "  3.40000000e+01 1.78166521e+02]\n",
      " [3.78862495e+01 5.02482185e+01 7.53981945e-01 1.37100000e+03\n",
      "  2.60000000e+01 1.48568542e+02]\n",
      " [6.32054405e+01 8.82022781e+01 7.16596463e-01 3.49650000e+03\n",
      "  4.40000000e+01 3.45119837e+02]\n",
      " ...\n",
      " [4.11629868e+01 1.11602470e+02 3.68835803e-01 3.34950000e+03\n",
      "  5.60000000e+01 2.70752307e+02]\n",
      " [3.33102417e+01 1.16447983e+02 2.86052544e-01 3.00800000e+03\n",
      "  5.80000000e+01 2.67563490e+02]\n",
      " [4.23209343e+01 1.18012718e+02 3.58613334e-01 3.63500000e+03\n",
      "  5.70000000e+01 2.73705626e+02]]\n"
     ]
    }
   ],
   "source": [
    "X = dataset.iloc[:, 1:7].values\n",
    "y = dataset.iloc[:, 7].values\n",
    "        \n",
    "print(X)"
   ]
  },
  {
   "cell_type": "code",
   "execution_count": 20,
   "metadata": {},
   "outputs": [
    {
     "data": {
      "text/plain": [
       "array([1, 0, 1, 1, 0, 1, 0, 1, 0, 0, 0, 0, 1, 0, 1, 1, 0, 1, 0, 1, 1, 1,\n",
       "       1, 1, 0, 0, 0, 0, 1, 1, 0, 1, 1, 0, 0, 0, 0, 1, 0, 0, 1, 0, 0, 1,\n",
       "       0, 0, 0, 0, 0, 0, 0, 1, 1, 1, 0, 1, 0, 0, 1, 0, 0, 0, 0, 0, 0, 1,\n",
       "       1, 0, 1, 1, 1, 0, 0, 0, 1, 0, 1, 0, 0, 1, 0, 0, 0, 0, 1, 1, 0, 0,\n",
       "       1, 1, 0, 1, 1, 0, 1, 0, 1, 1, 1, 0, 1, 0, 1, 0, 1, 1, 0, 0, 0, 0,\n",
       "       0, 1, 1, 0, 0, 0, 0, 1, 0, 0, 1, 1, 0, 0, 1, 0, 0, 1, 1, 1, 0, 0,\n",
       "       0, 1, 0, 0, 1, 1, 1, 1, 0, 0, 1, 0, 0, 0, 0, 0, 1, 0, 0, 0, 1, 1,\n",
       "       0, 0, 0, 0, 0, 0, 0, 0, 1, 1, 0, 0, 0, 1, 0, 1, 1, 1, 1, 0, 1, 0,\n",
       "       1, 1, 1, 0, 1, 0, 1, 1, 0, 1, 1, 0, 1, 1, 0, 0, 0, 1, 1, 1, 1, 0,\n",
       "       1, 0, 0, 0, 1, 1, 0, 1, 1, 1, 0, 0, 1])"
      ]
     },
     "execution_count": 20,
     "metadata": {},
     "output_type": "execute_result"
    }
   ],
   "source": [
    "from sklearn.model_selection import train_test_split\n",
    "X_train, X_test, y_train, y_test = train_test_split(X, y, test_size=0.25, random_state=0)\n",
    "y_train"
   ]
  },
  {
   "cell_type": "code",
   "execution_count": 21,
   "metadata": {},
   "outputs": [],
   "source": [
    "# Feature Scaling\n",
    "from sklearn.preprocessing import StandardScaler\n",
    "sc = StandardScaler()\n",
    "#X_train = sc.fit_transform(X_train)\n",
    "#X_test = sc.transform(X_test)\n",
    "#X_test"
   ]
  },
  {
   "cell_type": "code",
   "execution_count": 22,
   "metadata": {},
   "outputs": [
    {
     "data": {
      "text/plain": [
       "RandomForestRegressor(bootstrap=True, ccp_alpha=0.0, criterion='mse',\n",
       "                      max_depth=None, max_features='auto', max_leaf_nodes=None,\n",
       "                      max_samples=None, min_impurity_decrease=0.0,\n",
       "                      min_impurity_split=None, min_samples_leaf=1,\n",
       "                      min_samples_split=2, min_weight_fraction_leaf=0.0,\n",
       "                      n_estimators=20, n_jobs=None, oob_score=False,\n",
       "                      random_state=0, verbose=0, warm_start=False)"
      ]
     },
     "execution_count": 22,
     "metadata": {},
     "output_type": "execute_result"
    }
   ],
   "source": [
    "from sklearn.ensemble import RandomForestRegressor\n",
    "regressor = RandomForestRegressor(n_estimators=20, random_state=0)\n",
    "regressor.fit(X_train, y_train)"
   ]
  },
  {
   "cell_type": "code",
   "execution_count": 23,
   "metadata": {},
   "outputs": [
    {
     "data": {
      "text/plain": [
       "['R_8__random_forest_model.pkl']"
      ]
     },
     "execution_count": 23,
     "metadata": {},
     "output_type": "execute_result"
    }
   ],
   "source": [
    "filename = 'R_8__random_forest_model.pkl'\n",
    "joblib.dump(regressor,filename)"
   ]
  },
  {
   "cell_type": "code",
   "execution_count": 24,
   "metadata": {},
   "outputs": [
    {
     "name": "stdout",
     "output_type": "stream",
     "text": [
      "0 0.0\n",
      "0 0.0\n",
      "0 0.0\n",
      "1 1.0\n",
      "1 1.0\n",
      "1 1.0\n",
      "1 1.0\n",
      "1 0.0\n",
      "0 0.0\n",
      "0 0.0\n",
      "0 0.0\n",
      "1 1.0\n",
      "0 0.0\n",
      "1 1.0\n",
      "0 0.0\n",
      "1 1.0\n",
      "1 1.0\n",
      "0 0.0\n",
      "0 0.0\n",
      "0 0.0\n",
      "1 1.0\n",
      "1 1.0\n",
      "1 0.0\n",
      "1 1.0\n",
      "0 0.0\n",
      "1 1.0\n",
      "0 0.0\n",
      "1 1.0\n",
      "1 1.0\n",
      "1 1.0\n",
      "0 0.0\n",
      "0 0.0\n",
      "0 0.0\n",
      "0 0.0\n",
      "1 1.0\n",
      "0 0.0\n",
      "0 0.0\n",
      "0 0.0\n",
      "1 1.0\n",
      "0 0.0\n",
      "0 0.0\n",
      "1 1.0\n",
      "1 1.0\n",
      "1 0.0\n",
      "0 0.0\n",
      "1 1.0\n",
      "0 0.0\n",
      "1 1.0\n",
      "1 1.0\n",
      "1 1.0\n",
      "0 0.0\n",
      "0 0.0\n",
      "1 1.0\n",
      "0 0.0\n",
      "0 0.0\n",
      "1 1.0\n",
      "1 1.0\n",
      "1 1.0\n",
      "1 1.0\n",
      "1 1.0\n",
      "0 0.0\n",
      "1 1.0\n",
      "1 0.0\n",
      "1 1.0\n",
      "1 1.0\n",
      "0 0.0\n",
      "1 1.0\n",
      "1 1.0\n",
      "1 1.0\n",
      "0 0.0\n",
      "1 1.0\n"
     ]
    }
   ],
   "source": [
    "y_pred = regressor.predict(X_test)\n",
    "#X_test\n",
    "for i in range(len(y_test)):\n",
    "    print(y_test[i], y_pred[i].round())"
   ]
  },
  {
   "cell_type": "code",
   "execution_count": null,
   "metadata": {},
   "outputs": [],
   "source": []
  },
  {
   "cell_type": "code",
   "execution_count": 25,
   "metadata": {},
   "outputs": [],
   "source": [
    "#PREDICTION"
   ]
  },
  {
   "cell_type": "code",
   "execution_count": 26,
   "metadata": {},
   "outputs": [
    {
     "data": {
      "text/plain": [
       "array([0.])"
      ]
     },
     "execution_count": 26,
     "metadata": {},
     "output_type": "execute_result"
    }
   ],
   "source": [
    "# Load model from file\n",
    "classifer = joblib.load(filename)\n",
    "classifer.predict([[38.89767837524414,54.53173065185547,0.713303574089311,1574.5,28,157.9238795042038]])"
   ]
  },
  {
   "cell_type": "code",
   "execution_count": null,
   "metadata": {},
   "outputs": [],
   "source": []
  },
  {
   "cell_type": "code",
   "execution_count": null,
   "metadata": {},
   "outputs": [],
   "source": []
  },
  {
   "cell_type": "code",
   "execution_count": null,
   "metadata": {},
   "outputs": [],
   "source": []
  }
 ],
 "metadata": {
  "kernelspec": {
   "display_name": "Python 3",
   "language": "python",
   "name": "python3"
  },
  "language_info": {
   "codemirror_mode": {
    "name": "ipython",
    "version": 3
   },
   "file_extension": ".py",
   "mimetype": "text/x-python",
   "name": "python",
   "nbconvert_exporter": "python",
   "pygments_lexer": "ipython3",
   "version": "3.6.9"
  }
 },
 "nbformat": 4,
 "nbformat_minor": 2
}
